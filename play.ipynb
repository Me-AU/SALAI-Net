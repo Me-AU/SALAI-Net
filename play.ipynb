{
 "cells": [
  {
   "cell_type": "markdown",
   "metadata": {},
   "source": [
    "### Check pckls"
   ]
  },
  {
   "cell_type": "code",
   "execution_count": 1,
   "metadata": {},
   "outputs": [],
   "source": [
    "import pickle"
   ]
  },
  {
   "cell_type": "code",
   "execution_count": 15,
   "metadata": {},
   "outputs": [],
   "source": [
    "def print_args(model_args):\n",
    "    with open(model_args, \"rb\") as f:\n",
    "        model_args = pickle.load(f)\n",
    "    for key, value in vars(model_args).items():\n",
    "        print(str(key) + \": \" + str(value))"
   ]
  },
  {
   "cell_type": "code",
   "execution_count": 29,
   "metadata": {},
   "outputs": [
    {
     "name": "stdout",
     "output_type": "stream",
     "text": [
      "Arguments:\n",
      "\n",
      "\n",
      "\n",
      "\n",
      "main_model\n",
      "\n",
      "\n",
      "exp: exp/agnostic/4classes_128gen/anc1Conv_winsize200_allrefs_newimpl\n",
      "train_mixed: data/benet_generations/4classes/chm22/train1_128gen20/vcf_and_labels.h5\n",
      "valid_mixed: data/benet_generations/4classes/chm22/val_128gen5/vcf_and_labels.h5\n",
      "train_ref_panel: data/benet_generations/4classes/chm22/train2_0gen/vcf_and_labels.h5\n",
      "valid_ref_panel: data/benet_generations/4classes/chm22/train2_0gen/vcf_and_labels.h5\n",
      "num_epochs: 99999999\n",
      "batch_size: 16\n",
      "lr: 0.01\n",
      "lr_decay: -1\n",
      "update_every: 2\n",
      "smoother: anc1conv\n",
      "ref_pooling: topk\n",
      "topk_k: 1\n",
      "win_size: 200\n",
      "win_stride: 200\n",
      "dropout: -1\n",
      "loss: BCE\n",
      "resume: False\n",
      "n_classes: 4\n",
      "n_refs: 99999\n",
      "comment: None\n",
      "\n",
      "\n",
      "\n",
      "\n",
      "\n",
      "\n",
      "hapmap_model\n",
      "\n",
      "\n",
      "exp: exp/agnostic/hapmap/4classes_128gen/anc1Conv_top130_winsize40_allrefs_newimpl\n",
      "train_mixed: data/benet_generations/hapmap/4classes/train_128gen20/vcf_and_labels.h5\n",
      "valid_mixed: data/benet_generations/hapmap/4classes/val_128gen5/vcf_and_labels.h5\n",
      "train_ref_panel: data/benet_generations/hapmap/4classes/refpanel_0gen/vcf_and_labels.h5\n",
      "valid_ref_panel: data/benet_generations/hapmap/4classes/refpanel_0gen/vcf_and_labels.h5\n",
      "query: False\n",
      "reference: False\n",
      "map: False\n",
      "num_epochs: 99999999\n",
      "batch_size: 16\n",
      "lr: 0.01\n",
      "lr_decay: -1\n",
      "update_every: 2\n",
      "smoother: anc1conv\n",
      "ref_pooling: topk\n",
      "topk_k: 130\n",
      "win_size: 40\n",
      "win_stride: 40\n",
      "dropout: -1\n",
      "loss: BCE\n",
      "resume: True\n",
      "n_refs: 99999\n",
      "comment: None\n",
      "\n",
      "\n",
      "\n",
      "\n",
      "\n",
      "\n",
      "Progress:\n",
      "\n",
      "\n",
      "main_model\n",
      "\n",
      "\n",
      "epoch: [0, 1, 2, 3, 4, 5, 6, 7, 8, 9, 10, 11, 12, 13, 14, 15, 16, 17, 18, 19, 20, 21, 22, 23, 24, 25, 26, 27, 28, 29, 30, 31, 32, 33, 34, 35, 36, 37, 38]\n",
      "train_loss: [0.8651299484120974, 0.6343308157703411, 0.5941350125479248, 0.579887756011771, 0.5737090281345559, 0.5707441553379755, 0.5692240589257306, 0.5684075359278505, 0.5679537362460071, 0.567692720665122, 0.5675434010021342, 0.5674557833926482, 0.5674086638591574, 0.5673848231258632, 0.5673781252882015, 0.5673827841971655, 0.5673945045696115, 0.5674116321892109, 0.567433051811824, 0.5674578166045483, 0.5674860858879749, 0.5675150375321226, 0.5675453220335942, 0.5675767954415495, 0.5676088085714376, 0.567642055311293, 0.5676751469478667, 0.5677081083164275, 0.5677410206704769, 0.5677740913142199, 0.5678062731364988, 0.5678373852615837, 0.5678687643892361, 0.5678986458096115, 0.5679277949175745, 0.5679567362527428, 0.5679844489449974, 0.5680113328890231, 0.5680380972488871]\n",
      "val_loss: [0.6822509571909905, 0.6139022454619407, 0.5938038941472769, 0.5855727925896644, 0.5817717131227255, 0.579913193359971, 0.5789682518690824, 0.5784720730036497, 0.5782066993415356, 0.5780607920140028, 0.5779784228652716, 0.5779295112937689, 0.577895562723279, 0.5778709542006254, 0.5778526000678539, 0.5778353080153465, 0.5778157871216536, 0.5777939416468143, 0.5777748562395573, 0.577752735093236, 0.5777270544320345, 0.5777018755674362, 0.5776731923222542, 0.577643733844161, 0.5776143915951252, 0.5775831878185272, 0.5775501884520053, 0.577517955750227, 0.5774844944477081, 0.5774513579905033, 0.5774192351847887, 0.5773850835859775, 0.5773498870432376, 0.5773181274533272, 0.5772848535329104, 0.5772523414343596, 0.5772214826196432, 0.5771908588707447, 0.5771608587354422]\n",
      "val_acc: [tensor(0.7934), tensor(0.8243), tensor(0.8332), tensor(0.8369), tensor(0.8386), tensor(0.8395), tensor(0.8400), tensor(0.8403), tensor(0.8405), tensor(0.8406), tensor(0.8405), tensor(0.8405), tensor(0.8405), tensor(0.8405), tensor(0.8405), tensor(0.8404), tensor(0.8404), tensor(0.8404), tensor(0.8403), tensor(0.8403), tensor(0.8403), tensor(0.8402), tensor(0.8402), tensor(0.8401), tensor(0.8401), tensor(0.8401), tensor(0.8400), tensor(0.8400), tensor(0.8400), tensor(0.8399), tensor(0.8399), tensor(0.8398), tensor(0.8398), tensor(0.8397), tensor(0.8397), tensor(0.8396), tensor(0.8396), tensor(0.8396), tensor(0.8395)]\n",
      "time: [1233.2202162742615, 2363.519257545471, 3390.6583817005157, 4443.296292066574, 5430.153863668442, 6420.642592191696, 7405.70592045784, 8390.860084295273, 9368.400620222092, 10351.951518297195, 11333.567686080933, 12296.372385025024, 13255.824129343033, 14217.261239290237, 15176.466622591019, 16134.825128793716, 17093.63209581375, 18051.54735136032, 19010.573454380035, 19968.83635377884, 20927.935608148575, 21886.07577776909, 22845.113579034805, 23803.75164294243, 24761.444593191147, 25719.744854927063, 26678.084232091904, 27636.672047376633, 28595.579756736755, 29554.759231328964, 30512.896468400955, 31469.836942911148, 32426.77529025078, 33384.75905299187, 34342.22487449646, 35299.21690106392, 36257.57270073891, 37215.158692359924, 38172.67531943321]\n",
      "best_epoch: [0, 1, 2, 3, 4, 5, 6, 7, 8, 9, 9, 9, 9, 9, 9, 9, 9, 9, 9, 9, 9, 9, 9, 9, 9, 9, 9, 9, 9, 9, 9, 9, 9, 9, 9, 9, 9, 9, 9]\n",
      "best_val_loss: [0.6822509571909905, 0.6139022454619407, 0.5938038941472769, 0.5855727925896644, 0.5817717131227255, 0.579913193359971, 0.5789682518690824, 0.5784720730036497, 0.5782066993415356, 0.5780607920140028, 0.5780607920140028, 0.5780607920140028, 0.5780607920140028, 0.5780607920140028, 0.5780607920140028, 0.5780607920140028, 0.5780607920140028, 0.5780607920140028, 0.5780607920140028, 0.5780607920140028, 0.5780607920140028, 0.5780607920140028, 0.5780607920140028, 0.5780607920140028, 0.5780607920140028, 0.5780607920140028, 0.5780607920140028, 0.5780607920140028, 0.5780607920140028, 0.5780607920140028, 0.5780607920140028, 0.5780607920140028, 0.5780607920140028, 0.5780607920140028, 0.5780607920140028, 0.5780607920140028, 0.5780607920140028, 0.5780607920140028, 0.5780607920140028]\n",
      "lr: [0.01, 0.01, 0.01, 0.01, 0.01, 0.01, 0.01, 0.01, 0.01, 0.01, 0.01, 0.01, 0.01, 0.01, 0.01, 0.01, 0.01, 0.01, 0.01, 0.01, 0.01, 0.01, 0.01, 0.01, 0.01, 0.01, 0.01, 0.01, 0.01, 0.01, 0.01, 0.01, 0.01, 0.01, 0.01, 0.01, 0.01, 0.01, 0.01]\n",
      "\n",
      "\n",
      "\n",
      "\n",
      "hapmap_model\n",
      "\n",
      "\n",
      "epoch: [0, 1, 2, 3, 4, 5, 6, 7, 8, 9, 10, 11, 12, 13, 14, 15, 16, 17, 18, 19, 20, 21, 22]\n",
      "train_loss: [1.1317494215455446, 0.47068116668635196, 0.4291543010270821, 0.4165637687598384, 0.4107049916337871, 0.4069598856024772, 0.40416778319474284, 0.4019656065593725, 0.40024447066229096, 0.3989101453397259, 0.39787359507578723, 0.39705745735258424, 0.39640000635910333, 0.39585721891068815, 0.3953993168173346, 0.3950069029376192, 0.394666961200957, 0.3943706470652946, 0.394112247669097, 0.3938884048154519, 0.39369750191580577, 0.39353812453132003, 0.3934087465113064]\n",
      "val_loss: [0.49585798308253287, 0.43835449814796446, 0.42214805632829666, 0.41424048542976377, 0.4100248284637928, 0.40698097497224806, 0.40418303199112415, 0.40164741426706313, 0.39945370703935623, 0.3976483102887869, 0.3962265938520432, 0.3951344020664692, 0.39429866746068, 0.39365495163947345, 0.3931566635146737, 0.39277277756482365, 0.3924810057505965, 0.39226393308490515, 0.39210504330694673, 0.39199030585587025, 0.3919085316359997, 0.39185417741537093, 0.3918291125446558]\n",
      "val_acc: [tensor(0.8185), tensor(0.8483), tensor(0.8643), tensor(0.8671), tensor(0.8688), tensor(0.8705), tensor(0.8717), tensor(0.8725), tensor(0.8731), tensor(0.8734), tensor(0.8734), tensor(0.8733), tensor(0.8732), tensor(0.8733), tensor(0.8733), tensor(0.8733), tensor(0.8732), tensor(0.8731), tensor(0.8731), tensor(0.8731), tensor(0.8731), tensor(0.8732), tensor(0.8732)]\n",
      "time: [391.8753535747528, 782.0917248725891, 1172.7188572883606, 1564.5097875595093, 1957.6044857501984, 2352.003954410553, 2768.4314930438995, 3252.8167095184326, 3647.5472581386566, 4159.690554857254, 4580.170628070831, 5075.213944196701, 5581.534712076187, 5973.661198377609, 6471.435870170593, 6907.334089756012, 7387.550372362137, 7907.297271966934, 8300.976682424545, 8785.587678432465, 9229.877823591232, 9700.343888044357, 10086.225197315216]\n",
      "best_epoch: [0, 1, 2, 3, 4, 5, 6, 7, 8, 9, 10, 10, 10, 10, 14, 14, 14, 14, 14, 14, 14, 14, 14]\n",
      "best_val_loss: [0.49585798308253287, 0.43835449814796446, 0.42214805632829666, 0.41424048542976377, 0.4100248284637928, 0.40698097497224806, 0.40418303199112415, 0.40164741426706313, 0.39945370703935623, 0.3976483102887869, 0.3962265938520432, 0.3962265938520432, 0.3962265938520432, 0.3962265938520432, 0.3931566635146737, 0.3931566635146737, 0.3931566635146737, 0.3931566635146737, 0.3931566635146737, 0.3931566635146737, 0.3931566635146737, 0.3931566635146737, 0.3931566635146737]\n",
      "lr: [0.01, 0.01, 0.01, 0.01, 0.01, 0.01, 0.01, 0.01, 0.01, 0.01, 0.01, 0.01, 0.01, 0.01, 0.01, 0.01, 0.01, 0.01, 0.01, 0.01, 0.01, 0.01, 0.01]\n",
      "\n",
      "\n",
      "\n",
      "\n"
     ]
    }
   ],
   "source": [
    "argspckls = [r\"published_models\\published_models\\main_model\\args.pckl\", r\"published_models\\published_models\\hapmap_model\\args.pckl\"]\n",
    "progpckls = [r\"published_models\\published_models\\main_model\\progress.pckl\", r\"published_models\\published_models\\hapmap_model\\progress.pckl\"]\n",
    "\n",
    "print(\"Arguments:\")\n",
    "print(\"\\n\")\n",
    "for args in argspckls:\n",
    "    print(\"\\n\")\n",
    "    print(args.split(\"\\\\\")[-2])\n",
    "    print(\"\\n\")\n",
    "    print_args(args)\n",
    "    print(\"\\n\")\n",
    "    print(\"\\n\")\n",
    "\n",
    "print(\"\\n\")\n",
    "print(\"Progress:\")\n",
    "print(\"\\n\")\n",
    "\n",
    "for prog in progpckls:\n",
    "    print(prog.split(\"\\\\\")[-2])\n",
    "    print(\"\\n\")\n",
    "    with open(prog, \"rb\") as f:\n",
    "        prog = pickle.load(f)\n",
    "    for key, value in (prog).items():\n",
    "        print(str(key) + \": \" + str(value))\n",
    "    print(\"\\n\")\n",
    "    print(\"\\n\")"
   ]
  },
  {
   "cell_type": "markdown",
   "metadata": {},
   "source": [
    "### %age Classifications"
   ]
  },
  {
   "cell_type": "code",
   "execution_count": 1,
   "metadata": {},
   "outputs": [],
   "source": [
    "import pandas as pd\n",
    "\n",
    "def analyze_lai_file(file_path):\n",
    "    # Load the .lai file using pandas (assuming tab-separated format)\n",
    "    df = pd.read_csv(file_path, sep='\\t', comment='#')\n",
    "\n",
    "    # Extract the 2nd and 3rd columns by index (index 1 and 2)\n",
    "    data = df.iloc[:, 1:3].values.flatten()  # Flatten the values into a single array\n",
    "\n",
    "    # Count occurrences of each integer\n",
    "    counts = pd.Series(data).value_counts()\n",
    "\n",
    "    # Map the integers to the corresponding labels\n",
    "    labels = [\"AFR\", \"AMR\", \"EAS\", \"EUR\", \"SAS\"]\n",
    "    counts = counts.sort_index()  # Ensure the counts match the label order (0 -> AFR, 1 -> AMR, etc.)\n",
    "\n",
    "    # Calculate the total number of entries\n",
    "    total_count = len(data)\n",
    "\n",
    "    # Calculate the percentage of each integer's count\n",
    "    percentages = (counts / total_count) * 100\n",
    "\n",
    "    # Find the integer with the highest percentage\n",
    "    max_percentage_int = percentages.idxmax()\n",
    "    max_percentage_value = percentages.max()\n",
    "\n",
    "    # Return the results: percentages, max integer, and its percentage\n",
    "    return percentages, max_percentage_int, max_percentage_value"
   ]
  },
  {
   "cell_type": "code",
   "execution_count": 11,
   "metadata": {},
   "outputs": [],
   "source": [
    "import matplotlib.pyplot as plt\n",
    "\n",
    "def donut_plot_percentages(percentages):\n",
    "    # Labels for the categories\n",
    "    labels = [\"AFR\", \"AMR\", \"EAS\", \"EUR\", \"SAS\"]\n",
    "    \n",
    "    # Prepare data for the donut plot\n",
    "    plot_counts = percentages.index\n",
    "    plot_percentages = percentages.values\n",
    "    plot_labels = [f\"{label}: {percent:.2f}%\" for label, percent in zip(labels, plot_percentages)]\n",
    "\n",
    "    # Create the donut plot (pie chart with a hole in the middle)\n",
    "    fig, ax = plt.subplots(figsize=(7, 7))\n",
    "    wedges, texts, autotexts = ax.pie(plot_percentages, labels=plot_labels, autopct='', startangle=90,\n",
    "                                      wedgeprops=dict(width=0.4))  # `width=0.4` creates the hole for the donut\n",
    "\n",
    "    # Add title\n",
    "    ax.set_title(\"Ancestry Distribution\")\n",
    "\n",
    "    # Display the plot\n",
    "    plt.show()"
   ]
  },
  {
   "cell_type": "code",
   "execution_count": 13,
   "metadata": {},
   "outputs": [
    {
     "data": {
      "image/png": "[encoded data removed]",
      "text/plain": [
       "<Figure size 700x700 with 1 Axes>"
      ]
     },
     "metadata": {},
     "output_type": "display_data"
    },
    {
     "name": "stdout",
     "output_type": "stream",
     "text": [
      "The integer with the highest percentage is AFR with 78.45%.\n"
     ]
    }
   ],
   "source": [
    "# Example usage:\n",
    "file_path = r'H:\\My Drive\\Ancestry\\SALAI-Net\\user_8_hapmap_outputfiles\\predictions.lai'\n",
    "# file_path = r'H:\\My Drive\\Ancestry\\SALAI-Net\\prediction_human\\predictions.lai'\n",
    "labels = [\"AFR\", \"AMR\", \"EAS\", \"EUR\", \"SAS\"]\n",
    "\n",
    "# Step 1: Analyze the file and get percentages and the maximum integer\n",
    "percentages, max_int, max_percentage = analyze_lai_file(file_path)\n",
    "\n",
    "# Step 2: Plot the donut chart using the percentages\n",
    "donut_plot_percentages(percentages)\n",
    "\n",
    "# Optionally, you can print out the maximum percentage integer:\n",
    "print(f\"The integer with the highest percentage is {labels[max_int]} with {max_percentage:.2f}%.\")\n",
    "\n"
   ]
  },
  {
   "cell_type": "markdown",
   "metadata": {},
   "source": [
    "### ."
   ]
  },
  {
   "cell_type": "markdown",
   "metadata": {},
   "source": [
    "classes = [\"AFR\",\"AMR\",\"EAS\",\"EUR\",\"SAS\"]"
   ]
  },
  {
   "cell_type": "markdown",
   "metadata": {},
   "source": []
  }
 ],
 "metadata": {
  "kernelspec": {
   "display_name": "salai2",
   "language": "python",
   "name": "python3"
  },
  "language_info": {
   "codemirror_mode": {
    "name": "ipython",
    "version": 3
   },
   "file_extension": ".py",
   "mimetype": "text/x-python",
   "name": "python",
   "nbconvert_exporter": "python",
   "pygments_lexer": "ipython3",
   "version": "3.9.21"
  }
 },
 "nbformat": 4,
 "nbformat_minor": 2
}
